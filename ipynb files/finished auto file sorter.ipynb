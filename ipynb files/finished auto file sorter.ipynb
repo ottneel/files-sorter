{
 "cells": [
  {
   "cell_type": "code",
   "execution_count": 1,
   "id": "b9cf9777",
   "metadata": {},
   "outputs": [],
   "source": [
    "#importing libraries\n",
    "import os,shutil\n",
    "from time import time"
   ]
  },
  {
   "cell_type": "markdown",
   "id": "f12e78bf",
   "metadata": {},
   "source": [
    "start=time()\n",
    "while True:\n",
    "    try:\n",
    "        path=str((input('enter a path:')))\n",
    "        path+='\\\\'\n",
    "        break\n",
    "    except:\n",
    "        print('please enter a valid file path')\n",
    "        continue\n",
    "end=time()\n",
    "tt=end-start\n",
    "\n",
    "print(f\"took %.4f seconds\"%(tt))"
   ]
  },
  {
   "cell_type": "code",
   "execution_count": 4,
   "id": "3578e1d3",
   "metadata": {},
   "outputs": [
    {
     "name": "stdout",
     "output_type": "stream",
     "text": [
      "folder doesn't exist. creating folder...\n",
      "xlsx files folder created\n",
      "moving New Microsoft Excel Worksheet.xlsx to xlsx files...\n",
      "New Microsoft Excel Worksheet.xlsx moved!\n",
      "folder doesn't exist. creating folder...\n",
      "docx files folder created\n",
      "moving New Microsoft Word Document.docx to docx files...\n",
      "New Microsoft Word Document.docx moved!\n",
      "folder doesn't exist. creating folder...\n",
      "csv files folder created\n",
      "moving New Text Document (2).csv to csv files...\n",
      "New Text Document (2).csv moved!\n",
      "folder doesn't exist. creating folder...\n",
      "txt files folder created\n",
      "moving New Text Document.txt to txt files...\n",
      "New Text Document.txt moved!\n",
      "Loop took 0.0590 seconds\n"
     ]
    }
   ],
   "source": [
    "def main(path):\n",
    "    start = time()\n",
    "\n",
    "    # List files in the directory\n",
    "    file_list = os.listdir(path)\n",
    "\n",
    "    for file in file_list:\n",
    "        if os.path.isfile(os.path.join(path, file)):  # Check if it's a file\n",
    "            file_name, file_ext = os.path.splitext(file) #split the file by name and extention\n",
    "            file_ext = file_ext[1:]  # Remove the dot from the extension\n",
    "        \n",
    "            file_dir = os.path.join(path, file_ext + \" files\") # create path to the resp. folder with the name\n",
    "            dest_file_path = os.path.join(file_dir, file) #create the file path\n",
    "        \n",
    "            # Create directory if it doesn't exist\n",
    "            if not os.path.exists(file_dir):\n",
    "                print(\"folder doesn't exist. creating folder...\")\n",
    "                os.makedirs(file_dir)\n",
    "                head,tail=os.path.split(file_dir)\n",
    "                print(f'{tail} folder created')\n",
    "        \n",
    "            # Move the file if it's not already in the correct directory\n",
    "            if not os.path.exists(dest_file_path):\n",
    "                print(f'moving {file} to {tail}...')\n",
    "                shutil.move(os.path.join(path, file), dest_file_path)\n",
    "                print(f'{file} moved!')\n",
    "\n",
    "    end = time()\n",
    "    total_time = end - start\n",
    "    print(f'took %.4f seconds to move files' % (total_time))"
   ]
  },
  {
   "cell_type": "code",
   "execution_count": null,
   "id": "80c81e6e",
   "metadata": {},
   "outputs": [],
   "source": [
    "if __name__ == '__main__':\n",
    "    while True:\n",
    "        try:\n",
    "            path=str((input('enter a path:')))\n",
    "            path+='\\\\'\n",
    "            break\n",
    "        except:\n",
    "            print('please enter a valid file path')\n",
    "            continue\n",
    "    main(path)"
   ]
  }
 ],
 "metadata": {
  "kernelspec": {
   "display_name": "Python 3 (ipykernel)",
   "language": "python",
   "name": "python3"
  },
  "language_info": {
   "codemirror_mode": {
    "name": "ipython",
    "version": 3
   },
   "file_extension": ".py",
   "mimetype": "text/x-python",
   "name": "python",
   "nbconvert_exporter": "python",
   "pygments_lexer": "ipython3",
   "version": "3.9.13"
  }
 },
 "nbformat": 4,
 "nbformat_minor": 5
}
