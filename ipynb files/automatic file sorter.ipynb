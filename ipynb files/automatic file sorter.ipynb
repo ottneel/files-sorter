{
 "cells": [
  {
   "cell_type": "code",
   "execution_count": 1,
   "id": "b9cf9777",
   "metadata": {},
   "outputs": [],
   "source": [
    "import os,shutil\n",
    "from time import time"
   ]
  },
  {
   "cell_type": "code",
   "execution_count": 2,
   "id": "b4a4138f",
   "metadata": {},
   "outputs": [
    {
     "name": "stdout",
     "output_type": "stream",
     "text": [
      "enter a path:C:\\Users\\HP USER\\file-sorter\n",
      "took 2.209280490875244\n"
     ]
    }
   ],
   "source": [
    "start=time()\n",
    "while True:\n",
    "    try:\n",
    "        path=str((input('enter a path:')))\n",
    "        path+='\\\\'\n",
    "        break\n",
    "    except:\n",
    "        print('please enter a valid file path')\n",
    "        continue\n",
    "end=time()\n",
    "tt=end-start\n",
    "\n",
    "print(f\"took {tt}\")"
   ]
  },
  {
   "cell_type": "code",
   "execution_count": 2,
   "id": "7f63c857",
   "metadata": {},
   "outputs": [],
   "source": [
    "path=r'C:\\Users\\HP USER\\file-sorter'"
   ]
  },
  {
   "cell_type": "code",
   "execution_count": 6,
   "id": "c99ec63d",
   "metadata": {},
   "outputs": [],
   "source": [
    "folder_names=['csv files','text files','sql files','ipynb files']"
   ]
  },
  {
   "cell_type": "code",
   "execution_count": 7,
   "id": "fa87a0a0",
   "metadata": {},
   "outputs": [],
   "source": [
    "for folder in (folder_names):\n",
    "    #print(folder)\n",
    "    folder_path = os.path.join(path,folder)\n",
    "    if not os.path.exists(folder_path):\n",
    "        os.makedirs(folder_path)"
   ]
  },
  {
   "cell_type": "code",
   "execution_count": 8,
   "id": "93a6d319",
   "metadata": {},
   "outputs": [
    {
     "name": "stdout",
     "output_type": "stream",
     "text": [
      "loop took0.0 seconds\n"
     ]
    }
   ],
   "source": [
    "start=time()\n",
    "for file in file_list:\n",
    "    if file.endswith(\".pdf\"):\n",
    "        csv_dir = os.path.join(path, \"pdf files\")\n",
    "        if not os.path.exists(csv_dir):\n",
    "            os.makedirs(csv_dir)\n",
    "        if not os.path.exists(os.path.join(csv_dir, file)):\n",
    "            shutil.move(os.path.join(path, file), csv_dir)\n",
    "end=time()\n",
    "total_time=end-start\n",
    "print(f'loop took{total_time} seconds')"
   ]
  },
  {
   "cell_type": "code",
   "execution_count": 32,
   "id": "5b4478cd",
   "metadata": {
    "scrolled": false
   },
   "outputs": [
    {
     "name": "stdout",
     "output_type": "stream",
     "text": [
      "['.ipynb_checkpoints', 'automatic file sorter.ipynb', 'csv files', 'docx files', 'ipynb files', 'ipynb_checkpoints files', 'New Microsoft Excel Worksheet.xlsx', 'txt files']\n"
     ]
    }
   ],
   "source": []
  },
  {
   "cell_type": "code",
   "execution_count": 33,
   "id": "3a78133c",
   "metadata": {
    "scrolled": false
   },
   "outputs": [
    {
     "name": "stdout",
     "output_type": "stream",
     "text": [
      "loop took 0.0155 seconds\n"
     ]
    }
   ],
   "source": [
    "start=time()\n",
    "#list the files in the directory\n",
    "file_list=os.listdir(path)\n",
    "\n",
    "for file in file_list:\n",
    "    if os.path.isfile(os.path.join(path, file)):  # to check if it's a file\n",
    "        file_name, file_ext = os.path.splitext(file) #python\n",
    "    #print(file_ext)\n",
    "    if file.endswith(file_ext):\n",
    "        file_dir = os.path.join(path, file_ext+\" files\")\n",
    "        if not os.path.exists(file_dir):\n",
    "            os.makedirs(file_dir)        \n",
    "        dest_file_path = os.path.join(file_dir, file)\n",
    "        if not os.path.exists(dest_file_path):\n",
    "            shutil.move(os.path.join(path, file), dest_file_path)\n",
    "        if not os.path.exists(os.path.join(file_dir, file)):\n",
    "            shutil.move(os.path.join(path, file), file_dir)\n",
    "end=time()\n",
    "total_time=end-start\n",
    "print(f'loop took %.4f seconds'%(total_time))"
   ]
  },
  {
   "cell_type": "code",
   "execution_count": 26,
   "id": "ea6bf964",
   "metadata": {},
   "outputs": [
    {
     "name": "stdout",
     "output_type": "stream",
     "text": [
      "ipynb_checkpoints\n",
      "ipynb\n",
      "csv files\n",
      "docx files\n",
      "ipynb files\n",
      "ipynb_checkpoints files\n",
      "docx\n",
      "txt files\n"
     ]
    }
   ],
   "source": [
    "for file in file_list:\n",
    "    file_ext=file.split('.')[-1]\n",
    "    print(file_ext)"
   ]
  },
  {
   "cell_type": "code",
   "execution_count": 34,
   "id": "c926a080",
   "metadata": {},
   "outputs": [
    {
     "data": {
      "text/plain": [
       "'C:\\\\Users\\\\HP USER\\\\file-sorter\\\\xlsx files\\\\New Microsoft Excel Worksheet.xlsx'"
      ]
     },
     "execution_count": 34,
     "metadata": {},
     "output_type": "execute_result"
    }
   ],
   "source": [
    "dest_file_path"
   ]
  },
  {
   "cell_type": "code",
   "execution_count": null,
   "id": "1ac6f672",
   "metadata": {},
   "outputs": [],
   "source": []
  }
 ],
 "metadata": {
  "kernelspec": {
   "display_name": "Python 3 (ipykernel)",
   "language": "python",
   "name": "python3"
  },
  "language_info": {
   "codemirror_mode": {
    "name": "ipython",
    "version": 3
   },
   "file_extension": ".py",
   "mimetype": "text/x-python",
   "name": "python",
   "nbconvert_exporter": "python",
   "pygments_lexer": "ipython3",
   "version": "3.9.13"
  }
 },
 "nbformat": 4,
 "nbformat_minor": 5
}
