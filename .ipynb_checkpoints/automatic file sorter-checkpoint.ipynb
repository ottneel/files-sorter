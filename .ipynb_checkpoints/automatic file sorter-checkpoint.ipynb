{
 "cells": [
  {
   "cell_type": "code",
   "execution_count": 1,
   "id": "b9cf9777",
   "metadata": {},
   "outputs": [],
   "source": [
    "import os,shutil\n",
    "from time import time"
   ]
  },
  {
   "cell_type": "code",
   "execution_count": 2,
   "id": "b4a4138f",
   "metadata": {},
   "outputs": [
    {
     "name": "stdout",
     "output_type": "stream",
     "text": [
      "enter a path:C:\\Users\\HP USER\\file-sorter\n",
      "took 2.209280490875244\n"
     ]
    }
   ],
   "source": [
    "start=time()\n",
    "while True:\n",
    "    try:\n",
    "        path=str((input('enter a path:')))\n",
    "        path+='\\\\'\n",
    "        break\n",
    "    except:\n",
    "        print('please enter a valid file path')\n",
    "        continue\n",
    "end=time()\n",
    "tt=end-start\n",
    "\n",
    "print(f\"took {tt}\")"
   ]
  },
  {
   "cell_type": "code",
   "execution_count": 2,
   "id": "7f63c857",
   "metadata": {},
   "outputs": [],
   "source": [
    "path=r'C:\\Users\\HP USER\\file-sorter'"
   ]
  },
  {
   "cell_type": "code",
   "execution_count": 6,
   "id": "c99ec63d",
   "metadata": {},
   "outputs": [],
   "source": [
    "folder_names=['csv files','text files','sql files','ipynb files']"
   ]
  },
  {
   "cell_type": "code",
   "execution_count": 7,
   "id": "fa87a0a0",
   "metadata": {},
   "outputs": [],
   "source": [
    "for folder in (folder_names):\n",
    "    #print(folder)\n",
    "    folder_path = os.path.join(path,folder)\n",
    "    if not os.path.exists(folder_path):\n",
    "        os.makedirs(folder_path)"
   ]
  },
  {
   "cell_type": "code",
   "execution_count": 8,
   "id": "93a6d319",
   "metadata": {},
   "outputs": [
    {
     "name": "stdout",
     "output_type": "stream",
     "text": [
      "loop took0.0 seconds\n"
     ]
    }
   ],
   "source": [
    "start=time()\n",
    "for file in file_list:\n",
    "    if file.endswith(\".pdf\"):\n",
    "        csv_dir = os.path.join(path, \"pdf files\")\n",
    "        if not os.path.exists(csv_dir):\n",
    "            os.makedirs(csv_dir)\n",
    "        if not os.path.exists(os.path.join(csv_dir, file)):\n",
    "            shutil.move(os.path.join(path, file), csv_dir)\n",
    "end=time()\n",
    "total_time=end-start\n",
    "print(f'loop took{total_time} seconds')"
   ]
  },
  {
   "cell_type": "code",
   "execution_count": 14,
   "id": "5b4478cd",
   "metadata": {
    "scrolled": true
   },
   "outputs": [
    {
     "name": "stdout",
     "output_type": "stream",
     "text": [
      "['.ipynb_checkpoints', 'automatic file sorter.ipynb', 'New Microsoft Word Document (2).ipynb', 'New Microsoft Word Document.docx', 'New.csv', 'nhy.txt']\n"
     ]
    }
   ],
   "source": [
    "os.listdir(path)\n",
    "file_list=os.listdir(path)\n",
    "print(file_list)"
   ]
  },
  {
   "cell_type": "code",
   "execution_count": null,
   "id": "3a78133c",
   "metadata": {
    "scrolled": false
   },
   "outputs": [],
   "source": [
    "start=time()\n",
    "for file in file_list:\n",
    "    if '.' in file:\n",
    "        file_ext=file.split('.')[-1]\n",
    "    print(file_ext)\n",
    "    if file.endswith(file_ext):\n",
    "        csv_dir = os.path.join(path, file_ext+\" files\")\n",
    "        if not os.path.exists(csv_dir):\n",
    "            os.makedirs(csv_dir)        \n",
    "        dest_file_path = os.path.join(csv_dir, file)\n",
    "        if not os.path.exists(dest_file_path):\n",
    "            shutil.move(os.path.join(path, file), dest_file_path)\n",
    "        if not os.path.exists(os.path.join(csv_dir, file)):\n",
    "            shutil.move(os.path.join(path, file), csv_dir)\n",
    "end=time()\n",
    "total_time=end-start\n",
    "print(f'loop took{total_time} seconds')"
   ]
  },
  {
   "cell_type": "code",
   "execution_count": 13,
   "id": "ea6bf964",
   "metadata": {},
   "outputs": [
    {
     "name": "stdout",
     "output_type": "stream",
     "text": [
      "ipynb_checkpoints\n",
      "ipynb\n",
      "csv files\n",
      "docx files\n",
      "ipynb files\n",
      "ipynb_checkpoints files\n",
      "txt files\n"
     ]
    }
   ],
   "source": [
    "for file in file_list:\n",
    "    file_ext=file.split('.')[-1]\n",
    "    print(file_ext)"
   ]
  },
  {
   "cell_type": "code",
   "execution_count": null,
   "id": "b15e3cbb",
   "metadata": {},
   "outputs": [],
   "source": []
  }
 ],
 "metadata": {
  "kernelspec": {
   "display_name": "Python 3 (ipykernel)",
   "language": "python",
   "name": "python3"
  },
  "language_info": {
   "codemirror_mode": {
    "name": "ipython",
    "version": 3
   },
   "file_extension": ".py",
   "mimetype": "text/x-python",
   "name": "python",
   "nbconvert_exporter": "python",
   "pygments_lexer": "ipython3",
   "version": "3.9.13"
  }
 },
 "nbformat": 4,
 "nbformat_minor": 5
}
