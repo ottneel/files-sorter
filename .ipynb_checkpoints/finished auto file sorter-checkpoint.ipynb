{
 "cells": [
  {
   "cell_type": "code",
   "execution_count": 68,
   "id": "b9cf9777",
   "metadata": {},
   "outputs": [],
   "source": [
    "#importing libraries\n",
    "import os,shutil,sys\n",
    "from time import time"
   ]
  },
  {
   "cell_type": "code",
   "execution_count": 91,
   "id": "3578e1d3",
   "metadata": {},
   "outputs": [],
   "source": [
    "def main(path):\n",
    "    start = time()\n",
    "\n",
    "    # List files in the directory\n",
    "    file_list = os.listdir(path)\n",
    "\n",
    "    for file in file_list:\n",
    "        if os.path.isfile(os.path.join(path, file)):  # Check if it's a file\n",
    "            file_name, file_ext = os.path.splitext(file) #split the file by name and extention\n",
    "            file_ext = file_ext[1:]  # Remove the dot from the extension\n",
    "        \n",
    "            file_dir = os.path.join(path, file_ext + \" files\") # create path to the resp. folder with the name\n",
    "            dest_file_path = os.path.join(file_dir, file) #create the file path\n",
    "            head,tail=os.path.split(file_dir)\n",
    "            \n",
    "        \n",
    "            # Create directory if it doesn't exist and move\n",
    "            if not os.path.exists(file_dir):\n",
    "                print(f\"{file_ext} folder doesn't exist. creating folder...\")\n",
    "                os.makedirs(file_dir)\n",
    "                print(f'{tail} folder created')\n",
    "                print(f'moving {file} to {tail}...')\n",
    "                shutil.move(os.path.join(path, file), dest_file_path)\n",
    "                print(f'{file} moved!')\n",
    "            # Move the file if it's not already in the correct directory\n",
    "            elif os.path.exists(file_dir) and not os.path.exists(dest_file_path):\n",
    "                print(f'moving {file} to {tail}...')\n",
    "                shutil.move(os.path.join(path, file), dest_file_path)\n",
    "                print(f'{file} moved!')\n",
    "            else:\n",
    "                print('Nothing to move')\n",
    "                \n",
    "    end = time()\n",
    "    total_time = end - start\n",
    "    print(f'took %.4f seconds to complete' % (total_time))"
   ]
  },
  {
   "cell_type": "code",
   "execution_count": 104,
   "id": "80c81e6e",
   "metadata": {},
   "outputs": [
    {
     "name": "stdout",
     "output_type": "stream",
     "text": [
      "enter a path:\\test\n",
      " please enter a valid file path\n",
      "enter a path:C:\\Users\\HP USER\\test\n",
      "moving New Microsoft Word Document.docx to docx files...\n",
      "New Microsoft Word Document.docx moved!\n",
      "moving New Text Document.txt to txt files...\n",
      "New Text Document.txt moved!\n",
      "took 0.0049 seconds to complete\n"
     ]
    }
   ],
   "source": [
    "if __name__ == '__main__':\n",
    "    while True:\n",
    "        try:\n",
    "            path=str((input('enter a path:')))\n",
    "            if not os.path.exists(path): #input fn doesnt catch the filenorfound error, we have to manually raise it.\n",
    "                raise FileNotFoundError\n",
    "            break\n",
    "        except FileNotFoundError as e: #catch wrong inputs\n",
    "            print(e,'please enter a valid file path')\n",
    "            continue\n",
    "        except KeyboardInterrupt: #if the user exits using the keyboard\n",
    "            print('You exited this program')\n",
    "            sys.exit()\n",
    "    main(path)"
   ]
  },
  {
   "cell_type": "code",
   "execution_count": null,
   "id": "27914773",
   "metadata": {
    "collapsed": true
   },
   "outputs": [],
   "source": [
    "#%tb"
   ]
  },
  {
   "cell_type": "code",
   "execution_count": null,
   "id": "09ed472a",
   "metadata": {},
   "outputs": [],
   "source": [
    "\"C:\\Users\\HP USER\\file-sorter\""
   ]
  }
 ],
 "metadata": {
  "kernelspec": {
   "display_name": "Python 3 (ipykernel)",
   "language": "python",
   "name": "python3"
  },
  "language_info": {
   "codemirror_mode": {
    "name": "ipython",
    "version": 3
   },
   "file_extension": ".py",
   "mimetype": "text/x-python",
   "name": "python",
   "nbconvert_exporter": "python",
   "pygments_lexer": "ipython3",
   "version": "3.9.13"
  }
 },
 "nbformat": 4,
 "nbformat_minor": 5
}
